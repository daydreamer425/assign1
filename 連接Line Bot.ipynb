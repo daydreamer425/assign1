{
  "nbformat": 4,
  "nbformat_minor": 0,
  "metadata": {
    "colab": {
      "provenance": [],
      "authorship_tag": "ABX9TyM2WNGysUxOTZBUWu48jDC4",
      "include_colab_link": true
    },
    "kernelspec": {
      "name": "python3",
      "display_name": "Python 3"
    },
    "language_info": {
      "name": "python"
    }
  },
  "cells": [
    {
      "cell_type": "markdown",
      "metadata": {
        "id": "view-in-github",
        "colab_type": "text"
      },
      "source": [
        "<a href=\"https://colab.research.google.com/github/daydreamer425/assign1/blob/gh-pages/%E9%80%A3%E6%8E%A5Line%20Bot.ipynb\" target=\"_parent\"><img src=\"https://colab.research.google.com/assets/colab-badge.svg\" alt=\"Open In Colab\"/></a>"
      ]
    },
    {
      "cell_type": "code",
      "execution_count": null,
      "metadata": {
        "id": "weQ2EGre5tdO"
      },
      "outputs": [],
      "source": [
        "import pandas as pd\n",
        "\n",
        "# 指定CSV檔案的路徑\n",
        "file_path = '2330.TW_summary.csv'\n",
        "\n",
        "# 使用pandas讀取CSV檔案\n",
        "df = pd.read_csv(file_path)"
      ]
    },
    {
      "cell_type": "code",
      "source": [
        "import datetime as dt # 時間套件\n",
        "from datetime import datetime"
      ],
      "metadata": {
        "id": "vKzK0E_Vk-KH"
      },
      "execution_count": null,
      "outputs": []
    },
    {
      "cell_type": "code",
      "source": [
        "!pip install twstock\n",
        "!pip install line-bot-sdk"
      ],
      "metadata": {
        "id": "8zCKKJJkDkGO"
      },
      "execution_count": null,
      "outputs": []
    },
    {
      "cell_type": "code",
      "source": [
        "import pandas as pd\n",
        "from datetime import datetime\n",
        "from linebot.v3.messaging import TextMessage\n",
        "\n",
        "from datetime import date\n",
        "\n",
        "def get_stock_price():\n",
        "  # 輸入要查找的內容\n",
        "  stock_code = input(f\"請輸入要查詢的股票代碼為2317(鴻海)或2330(台積電): \")\n",
        "\n",
        "  df['Date'] = pd.to_datetime(df['Date'], format='%Y-%m-%d') # 假設日期格式是 YYYY-MM-DD\n",
        "  today_date = date.today() # 獲取當前日期\n",
        "  today_data = df[df['Date'] == today_date]\n",
        "\n",
        "  # 根據股票代碼進行進一步篩選\n",
        "  matching_row = today_data[today_data['公司 代號_x'] == stock_code]\n",
        "\n",
        "  # 判斷是否找到匹配的資料\n",
        "  if not matching_row.empty:\n",
        "    send_text = (\"月營收：\",df.iloc[matching_row,15])\n",
        "    send_text += (\"月營業額費用：\",df.iloc[matching_row,45])\n",
        "    send_text += print(\"每股盈餘：\",df.iloc[matching_row,49])\n",
        "    message = TextMessage(text=send_text)\n",
        "  else:\n",
        "    send_text =(\"未找到相對應日期和股票代碼的資料。\")\n",
        "    message = TextMessage(text=send_text)\n",
        "  return message"
      ],
      "metadata": {
        "id": "aBQWbU-G6wL2"
      },
      "execution_count": null,
      "outputs": []
    },
    {
      "cell_type": "code",
      "source": [
        "get_stock_price()"
      ],
      "metadata": {
        "id": "R0wLKwszleMO"
      },
      "execution_count": null,
      "outputs": []
    }
  ]
}